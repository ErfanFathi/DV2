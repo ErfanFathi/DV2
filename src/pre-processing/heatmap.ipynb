{
 "cells": [
  {
   "cell_type": "markdown",
   "metadata": {},
   "source": [
    "\n",
    "## HEATMAP data processing\n"
   ]
  },
  {
   "cell_type": "code",
   "execution_count": 44,
   "metadata": {},
   "outputs": [],
   "source": [
    "import pandas as pd\n",
    "import glob\n",
    "import os"
   ]
  },
  {
   "cell_type": "code",
   "execution_count": 45,
   "metadata": {},
   "outputs": [
    {
     "name": "stderr",
     "output_type": "stream",
     "text": [
      "/tmp/ipykernel_269812/4071730636.py:7: DtypeWarning: Columns (0) have mixed types. Specify dtype option on import or set low_memory=False.\n",
      "  df = pd.read_csv(file)\n",
      "/tmp/ipykernel_269812/4071730636.py:7: DtypeWarning: Columns (0) have mixed types. Specify dtype option on import or set low_memory=False.\n",
      "  df = pd.read_csv(file)\n",
      "/tmp/ipykernel_269812/4071730636.py:7: DtypeWarning: Columns (0) have mixed types. Specify dtype option on import or set low_memory=False.\n",
      "  df = pd.read_csv(file)\n"
     ]
    },
    {
     "name": "stdout",
     "output_type": "stream",
     "text": [
      "[(720140, '../../dataset/LosAngeles_Final_2022-06-18.csv'), (683788, '../../dataset/NewYork_Final_2022-06-18.csv'), (347669, '../../dataset/SanJose_Final_2022-06-18.csv'), (284739, '../../dataset/Denver_Final_2022-06-18.csv'), (218602, '../../dataset/Portland_Final_2022-06-18.csv')]\n"
     ]
    }
   ],
   "source": [
    "# Find top five csv files which have the most number of rows\n",
    "# and store them in a list\n",
    "path = r'../../dataset/'\n",
    "all_files = glob.glob(os.path.join(path, \"*.csv\"))\n",
    "top_five_cities = []\n",
    "for file in all_files:\n",
    "    df = pd.read_csv(file)\n",
    "    top_five_cities.append((len(df), file))\n",
    "\n",
    "top_five_cities.sort(reverse=True)\n",
    "top_five_cities = top_five_cities[:5]\n",
    "print(top_five_cities)"
   ]
  },
  {
   "cell_type": "code",
   "execution_count": 46,
   "metadata": {},
   "outputs": [
    {
     "name": "stderr",
     "output_type": "stream",
     "text": [
      "/tmp/ipykernel_269812/3118101249.py:1: DtypeWarning: Columns (0) have mixed types. Specify dtype option on import or set low_memory=False.\n",
      "  Merged_df = pd.concat([pd.read_csv(top_five_cities[0][1]),\n"
     ]
    }
   ],
   "source": [
    "Merged_df = pd.concat([pd.read_csv(top_five_cities[0][1]),\n",
    "                    pd.read_csv(top_five_cities[1][1]),\n",
    "                    pd.read_csv(top_five_cities[2][1]),\n",
    "                    pd.read_csv(top_five_cities[3][1]),\n",
    "                    pd.read_csv(top_five_cities[4][1])],\n",
    "                    axis=0)\n",
    "# print(Merged_df.head())"
   ]
  },
  {
   "cell_type": "code",
   "execution_count": 47,
   "metadata": {},
   "outputs": [
    {
     "name": "stdout",
     "output_type": "stream",
     "text": [
      "['Platanus acerifolia', 'Gleditsia triacanthos', 'Pyrus calleryana', 'Acer platanoides', 'Lagerstroemia indica']\n"
     ]
    }
   ],
   "source": [
    "# Top 5 trees in the merged dataframe\n",
    "count_df = pd.DataFrame(Merged_df['scientific_name'].value_counts())\n",
    "count_df.reset_index(inplace=True)\n",
    "count_df.columns = ['scientific_name', 'count']\n",
    "top_five_trees = count_df[:5]['scientific_name'].to_list()\n",
    "print(top_five_trees)"
   ]
  },
  {
   "cell_type": "code",
   "execution_count": 64,
   "metadata": {},
   "outputs": [
    {
     "name": "stdout",
     "output_type": "stream",
     "text": [
      "          city        scientific_name  count\n",
      "0       Denver       Acer platanoides   7945\n",
      "1       Denver  Gleditsia triacanthos  24178\n",
      "2       Denver    Platanus acerifolia   1814\n",
      "3       Denver       Pyrus calleryana   7133\n",
      "4  Los Angeles       Acer platanoides      6\n"
     ]
    }
   ],
   "source": [
    "# heatmap preparation\n",
    "heatmap_df = Merged_df[['city', 'scientific_name']]\n",
    "heatmap_df = heatmap_df[heatmap_df['scientific_name'].isin(top_five_trees)]\n",
    "# count the scientific_name in each city\n",
    "heatmap_df['count'] = 1\n",
    "heatmap_df = heatmap_df.groupby(['city', 'scientific_name']).agg({'count': 'sum'})\n",
    "heatmap_df.reset_index(inplace=True)\n",
    "print(heatmap_df.head())\n"
   ]
  },
  {
   "cell_type": "code",
   "execution_count": 65,
   "metadata": {},
   "outputs": [],
   "source": [
    "# save\n",
    "heatmap_df.to_csv('../../data/heatmap.csv', index=False)"
   ]
  }
 ],
 "metadata": {
  "kernelspec": {
   "display_name": "Python 3",
   "language": "python",
   "name": "python3"
  },
  "language_info": {
   "codemirror_mode": {
    "name": "ipython",
    "version": 3
   },
   "file_extension": ".py",
   "mimetype": "text/x-python",
   "name": "python",
   "nbconvert_exporter": "python",
   "pygments_lexer": "ipython3",
   "version": "3.10.12"
  }
 },
 "nbformat": 4,
 "nbformat_minor": 2
}
